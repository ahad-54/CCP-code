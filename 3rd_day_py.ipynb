{
  "nbformat": 4,
  "nbformat_minor": 0,
  "metadata": {
    "colab": {
      "provenance": [],
      "authorship_tag": "ABX9TyPyqnqIj5yG87BAu4d4ZmEE",
      "include_colab_link": true
    },
    "kernelspec": {
      "name": "python3",
      "display_name": "Python 3"
    },
    "language_info": {
      "name": "python"
    }
  },
  "cells": [
    {
      "cell_type": "markdown",
      "metadata": {
        "id": "view-in-github",
        "colab_type": "text"
      },
      "source": [
        "<a href=\"https://colab.research.google.com/github/ahad-54/CCP-code/blob/main/3rd_day_py.ipynb\" target=\"_parent\"><img src=\"https://colab.research.google.com/assets/colab-badge.svg\" alt=\"Open In Colab\"/></a>"
      ]
    },
    {
      "cell_type": "code",
      "execution_count": 39,
      "metadata": {
        "colab": {
          "base_uri": "https://localhost:8080/"
        },
        "id": "1mBKR7TC7qnb",
        "outputId": "b6417720-3c9b-4232-9c63-e3b3db9f345d"
      },
      "outputs": [
        {
          "output_type": "stream",
          "name": "stdout",
          "text": [
            "Enter 1st no.:7.88\n",
            "Enter 2nd no.:9.55\n",
            "Enter 3rd no.:3.876\n",
            "45\n"
          ]
        }
      ],
      "source": [
        "w = float(input(\"Enter 1st no.:\"))\n",
        "x = float(input(\"Enter 2nd no.:\"))\n",
        "y = float(input(\"Enter 3rd no.:\" ))\n",
        "z = round(w + x * y)\n",
        "\n",
        "print(z)"
      ]
    }
  ]
}