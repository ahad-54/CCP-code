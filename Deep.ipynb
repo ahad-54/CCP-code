{
  "nbformat": 4,
  "nbformat_minor": 0,
  "metadata": {
    "colab": {
      "provenance": [],
      "authorship_tag": "ABX9TyOfaEvL+Shgo4+n2AxIWR1O",
      "include_colab_link": true
    },
    "kernelspec": {
      "name": "python3",
      "display_name": "Python 3"
    },
    "language_info": {
      "name": "python"
    }
  },
  "cells": [
    {
      "cell_type": "markdown",
      "metadata": {
        "id": "view-in-github",
        "colab_type": "text"
      },
      "source": [
        "<a href=\"https://colab.research.google.com/github/ahad-54/CCP-code/blob/main/Deep.ipynb\" target=\"_parent\"><img src=\"https://colab.research.google.com/assets/colab-badge.svg\" alt=\"Open In Colab\"/></a>"
      ]
    },
    {
      "cell_type": "code",
      "execution_count": 1,
      "metadata": {
        "colab": {
          "base_uri": "https://localhost:8080/"
        },
        "id": "1mBKR7TC7qnb",
        "outputId": "8ceb91ac-c13d-428a-b53e-25f30fd6d91e"
      },
      "outputs": [
        {
          "output_type": "stream",
          "name": "stdout",
          "text": [
            "What is the Answer to the Great Question of Life, the Universe, and Everything?42\n",
            "Yes\n"
          ]
        }
      ],
      "source": [
        "answer =  str((input(\"What is the Answer to the Great Question of Life, the Universe, and Everything?\")))\n",
        "\n",
        "match answer:\n",
        "        case \"42\" | \"forty two\" | \"four two\"  :\n",
        "            print(\"Yes\")\n",
        "        case _ :\n",
        "            print(\"No\")\n",
        "\n",
        "\n"
      ]
    },
    {
      "cell_type": "code",
      "source": [],
      "metadata": {
        "id": "VoS4YxnEzCN3"
      },
      "execution_count": null,
      "outputs": []
    }
  ]
}